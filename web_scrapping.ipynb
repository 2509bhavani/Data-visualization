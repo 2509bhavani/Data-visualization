{
  "nbformat": 4,
  "nbformat_minor": 0,
  "metadata": {
    "colab": {
      "provenance": [],
      "authorship_tag": "ABX9TyNjnl0iUTJw0UgSzsiKSYTl",
      "include_colab_link": true
    },
    "kernelspec": {
      "name": "python3",
      "display_name": "Python 3"
    },
    "language_info": {
      "name": "python"
    }
  },
  "cells": [
    {
      "cell_type": "markdown",
      "metadata": {
        "id": "view-in-github",
        "colab_type": "text"
      },
      "source": [
        "<a href=\"https://colab.research.google.com/github/2509bhavani/Data-visualization/blob/main/web_scrapping.ipynb\" target=\"_parent\"><img src=\"https://colab.research.google.com/assets/colab-badge.svg\" alt=\"Open In Colab\"/></a>"
      ]
    },
    {
      "cell_type": "code",
      "source": [
        "import requests\n",
        "Link=\"https://en.wikipedia.org/w/index.php?title=List_of_festivals_in_India&oldid=1210332321\"\n",
        "Link_text=requests.get(Link).text\n",
        "print(Link_text)"
      ],
      "metadata": {
        "id": "p6J_q8Vx9rdu"
      },
      "execution_count": null,
      "outputs": []
    },
    {
      "cell_type": "code",
      "source": [
        "from bs4 import BeautifulSoup\n",
        "soup=BeautifulSoup(Link_text,'lxml')\n",
        "print(soup)"
      ],
      "metadata": {
        "id": "UULgAxUj9JI1"
      },
      "execution_count": null,
      "outputs": []
    },
    {
      "cell_type": "code",
      "source": [
        "print(soup.prettify())"
      ],
      "metadata": {
        "id": "GjxI8UfE-5Ut"
      },
      "execution_count": null,
      "outputs": []
    },
    {
      "cell_type": "code",
      "source": [
        "print(soup.title)"
      ],
      "metadata": {
        "colab": {
          "base_uri": "https://localhost:8080/"
        },
        "id": "GpqWvCu7_WH1",
        "outputId": "faa75cfb-a367-418c-d3b9-c76462e65bfc"
      },
      "execution_count": null,
      "outputs": [
        {
          "output_type": "stream",
          "name": "stdout",
          "text": [
            "<title>List of festivals in India - Wikipedia</title>\n"
          ]
        }
      ]
    },
    {
      "cell_type": "code",
      "source": [
        "print(soup.title.string)"
      ],
      "metadata": {
        "colab": {
          "base_uri": "https://localhost:8080/"
        },
        "id": "YUSEduq1_d6V",
        "outputId": "16f30a96-d084-4633-8522-c790eebcbd7c"
      },
      "execution_count": null,
      "outputs": [
        {
          "output_type": "stream",
          "name": "stdout",
          "text": [
            "List of festivals in India - Wikipedia\n"
          ]
        }
      ]
    },
    {
      "cell_type": "code",
      "source": [
        "soup.a"
      ],
      "metadata": {
        "colab": {
          "base_uri": "https://localhost:8080/"
        },
        "id": "qfeKxvT4_jrM",
        "outputId": "d6a2233f-1bb2-488e-a76b-7fa5eee4dbf4"
      },
      "execution_count": null,
      "outputs": [
        {
          "output_type": "execute_result",
          "data": {
            "text/plain": [
              "<a class=\"mw-jump-link\" href=\"#bodyContent\">Jump to content</a>"
            ]
          },
          "metadata": {},
          "execution_count": 7
        }
      ]
    },
    {
      "cell_type": "code",
      "source": [
        "soup.find_all('a')"
      ],
      "metadata": {
        "id": "_JcNt3G7_qqM"
      },
      "execution_count": null,
      "outputs": []
    },
    {
      "cell_type": "code",
      "source": [
        "all_table=soup.find_all('table')\n",
        "print(all_table)"
      ],
      "metadata": {
        "id": "FS9Wo0P7_wQc"
      },
      "execution_count": null,
      "outputs": []
    },
    {
      "cell_type": "code",
      "source": [
        "from urllib.request import urlopen\n",
        "from bs4 import BeautifulSoup\n",
        "\n",
        "htmldata = urlopen(\"https://timesofindia.indiatimes.com/etimes/trending/10-famous-scientists-and-their-contributions-to-the-world-of-science/photostory/107794111.cms\")\n",
        "soup = BeautifulSoup(htmldata, 'html.parser')\n",
        "images = soup.find_all('img')\n",
        "\n",
        "for item in images:\n",
        "    print(item['src'])"
      ],
      "metadata": {
        "colab": {
          "base_uri": "https://localhost:8080/"
        },
        "id": "WYegqbpPGxQj",
        "outputId": "f6b9030b-28fa-4b4b-a825-6ace55ff7f96"
      },
      "execution_count": 12,
      "outputs": [
        {
          "output_type": "stream",
          "name": "stdout",
          "text": [
            "https://static.toiimg.com/thumb/msid-59770138,width-166,height-124/59770138.jpg\n",
            "https://static.toiimg.com/thumb/msid-59770138,width-166,height-124/59770138.jpg\n",
            "https://static.toiimg.com/thumb/msid-59770138,width-166,height-124/59770138.jpg\n",
            "https://static.toiimg.com/thumb/msid-59770138,width-166,height-124/59770138.jpg\n",
            "https://static.toiimg.com/thumb/msid-59770138,width-166,height-124/59770138.jpg\n",
            "https://static.toiimg.com/thumb/msid-59770138,width-166,height-124/59770138.jpg\n",
            "https://static.toiimg.com/thumb/msid-59770138,width-166,height-124/59770138.jpg\n",
            "https://static.toiimg.com/thumb/msid-59770138,width-166,height-124/59770138.jpg\n",
            "https://static.toiimg.com/thumb/msid-59770138,width-166,height-124/59770138.jpg\n",
            "https://static.toiimg.com/thumb/msid-59770138,width-166,height-124/59770138.jpg\n",
            "https://static.toiimg.com/thumb/msid-59770138,width-166,height-124/59770138.jpg\n",
            "https://static.toiimg.com/thumb/msid-59770138,width-166,height-124/59770138.jpg\n",
            "https://static.toiimg.com/thumb/msid-59770138,width-166,height-124/59770138.jpg\n",
            "https://static.toiimg.com/thumb/msid-59770138,width-166,height-124/59770138.jpg\n",
            "https://static.toiimg.com/thumb/msid-59770138,width-166,height-124/59770138.jpg\n",
            "https://static.toiimg.com/thumb/msid-59770138,width-166,height-124/59770138.jpg\n",
            "https://static.toiimg.com/thumb/msid-59770138,width-166,height-124/59770138.jpg\n",
            "https://static.toiimg.com/thumb/msid-59770138,width-166,height-124/59770138.jpg\n",
            "https://static.toiimg.com/thumb/msid-108679054,imgsize-1535264,height-156,width-90/108679054.jpg\n",
            "https://static.toiimg.com/thumb/msid-108674695,imgsize-1138452,height-156,width-90/108674695.jpg\n",
            "https://static.toiimg.com/thumb/msid-108687597,imgsize-16070,height-156,width-90/108687597.jpg\n",
            "https://static.toiimg.com/thumb/msid-108681232,imgsize-35834,height-156,width-90/108681232.jpg\n",
            "https://static.toiimg.com/thumb/msid-108673259,imgsize-1232382,height-156,width-90/108673259.jpg\n",
            "https://static.toiimg.com/thumb/msid-108616624,imgsize-1235746,height-156,width-90/108616624.jpg\n",
            "https://static.toiimg.com/thumb/msid-108646810,imgsize-1184197,height-156,width-90/108646810.jpg\n",
            "https://static.toiimg.com/thumb/msid-108650126,imgsize-49644,height-156,width-90/108650126.jpg\n",
            "https://static.toiimg.com/thumb/msid-108649223,imgsize-1253313,height-156,width-90/108649223.jpg\n",
            "https://static.toiimg.com/thumb/msid-108645116,imgsize-870240,height-156,width-90/108645116.jpg\n",
            "https://static.toiimg.com/photo/29251859.cms\n",
            "https://static.toiimg.com/photo/29439462.cms\n",
            "\n",
            "https://static.toiimg.com/thumb/107794265.cms?width=680&height=512&imgsize=24422\n",
            "https://static.toiimg.com/photo/20259450.cms\n",
            "\n",
            "https://static.toiimg.com/thumb/msid-81149448,width-166,height-124/81149448.jpg\n",
            "https://static.toiimg.com/photo/20259450.cms\n",
            "\n",
            "https://static.toiimg.com/thumb/msid-81149448,width-166,height-124/81149448.jpg\n",
            "https://static.toiimg.com/photo/20259450.cms\n",
            "\n",
            "https://static.toiimg.com/thumb/msid-81149448,width-166,height-124/81149448.jpg\n",
            "https://static.toiimg.com/photo/20259450.cms\n",
            "\n",
            "https://static.toiimg.com/thumb/msid-81149448,width-166,height-124/81149448.jpg\n",
            "https://static.toiimg.com/photo/20259450.cms\n",
            "\n",
            "https://static.toiimg.com/thumb/msid-81149448,width-166,height-124/81149448.jpg\n",
            "https://static.toiimg.com/photo/20259450.cms\n",
            "\n",
            "https://static.toiimg.com/thumb/msid-81149448,width-166,height-124/81149448.jpg\n",
            "https://static.toiimg.com/photo/20259450.cms\n",
            "\n",
            "https://static.toiimg.com/thumb/msid-81149448,width-166,height-124/81149448.jpg\n",
            "https://static.toiimg.com/photo/20259450.cms\n",
            "\n",
            "https://static.toiimg.com/thumb/msid-81149448,width-166,height-124/81149448.jpg\n",
            "https://static.toiimg.com/photo/20259450.cms\n",
            "\n",
            "https://static.toiimg.com/thumb/msid-81149448,width-166,height-124/81149448.jpg\n",
            "https://static.toiimg.com/thumb/msid-108698839,imgsize-56092,width-190,height-266/108698839.jpg\n",
            "https://static.toiimg.com/thumb/msid-108697533,imgsize-22234,width-190,height-266/108697533.jpg\n",
            "https://static.toiimg.com/thumb/msid-108674320,imgsize-1138452,width-190,height-266/108674320.jpg\n",
            "https://static.toiimg.com/thumb/msid-108618703,imgsize-145488,width-190,height-266/108618703.jpg\n",
            "https://static.toiimg.com/thumb/msid-108694030,imgsize-1152620,width-190,height-266/108694030.jpg\n",
            "https://static.toiimg.com/thumb/msid-108678995,imgsize-1535264,width-190,height-266/108678995.jpg\n",
            "https://static.toiimg.com/thumb/msid-108687055,imgsize-76402,width-190,height-266/108687055.jpg\n",
            "https://static.toiimg.com/thumb/msid-108687581,imgsize-16070,width-190,height-266/108687581.jpg\n",
            "https://static.toiimg.com/thumb/msid-108693025,imgsize-41788,width-190,height-266/108693025.jpg\n",
            "https://static.toiimg.com/thumb/msid-108565819,imgsize-74308,width-190,height-266/108565819.jpg\n",
            "https://static.toiimg.com/thumb/msid-108509400,imgsize-1260855,width-94,height-68,quality-80/108509400.jpg\n",
            "https://static.toiimg.com/thumb/msid-108683935,imgsize-168072,width-94,height-68,quality-80/108683935.jpg\n",
            "https://static.toiimg.com/thumb/msid-108682300,imgsize-90382,width-94,height-68,quality-80/108682300.jpg\n",
            "https://static.toiimg.com/thumb/msid-108681232,imgsize-35834,width-94,height-68,quality-80/108681232.jpg\n",
            "https://static.toiimg.com/thumb/msid-108633807,imgsize-58824,width-94,height-68,quality-80/108633807.jpg\n",
            "https://static.toiimg.com/thumb/width-320,msid-108672343,imgsize-1395086,resizemode-4/108672343.jpg\n",
            "https://static.toiimg.com/thumb/msid-108685091,imgsize-172222/108683802.jpg\n",
            "https://static.toiimg.com/thumb/msid-108681142,imgsize-91598/108677096.jpg\n",
            "https://static.toiimg.com/thumb/msid-108674190,imgsize-19252/108674103.jpg\n",
            "https://static.toiimg.com/photo/71215965.cms\n"
          ]
        }
      ]
    }
  ]
}